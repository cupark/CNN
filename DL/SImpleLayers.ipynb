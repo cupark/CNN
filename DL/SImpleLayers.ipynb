{
 "cells": [
  {
   "cell_type": "markdown",
   "metadata": {},
   "source": [
    "---\n",
    "### 다중 레이어 구현"
   ]
  },
  {
   "cell_type": "markdown",
   "metadata": {},
   "source": [
    "---\n",
    "#### Input - First Layer"
   ]
  },
  {
   "cell_type": "markdown",
   "metadata": {},
   "source": [
    "![inputlayer](image/input_layer.png)"
   ]
  },
  {
   "cell_type": "code",
   "execution_count": 4,
   "metadata": {},
   "outputs": [
    {
     "name": "stderr",
     "output_type": "stream",
     "text": [
      "/home/park/.local/lib/python3.8/site-packages/tqdm/auto.py:22: TqdmWarning: IProgress not found. Please update jupyter and ipywidgets. See https://ipywidgets.readthedocs.io/en/stable/user_install.html\n",
      "  from .autonotebook import tqdm as notebook_tqdm\n"
     ]
    }
   ],
   "source": [
    "import torch\n",
    "import torch.nn as nn\n",
    "import numpy as np"
   ]
  },
  {
   "cell_type": "code",
   "execution_count": 5,
   "metadata": {},
   "outputs": [
    {
     "name": "stdout",
     "output_type": "stream",
     "text": [
      "X Shape:  (2,)\n",
      "W1 Shape:  (2, 3)\n",
      "B1 Shape:  (3,)\n"
     ]
    }
   ],
   "source": [
    "# a1 = w11 * x1 + w12 * x2 +b1으로 나타낼 수 있다. \n",
    "# A1 = a1, X = x1, x2 , W = w1, w2 , B = b 일 때 A1 = XW + B으로 구성할 수 있다.\n",
    "\n",
    "X = np.array([1.0, 0.5])\n",
    "W1 = np.array([[0.1, 0.3, 0.5], [0.2, 0.4, 0.6]])\n",
    "B1 = np.array([0.1, 0.2, 0.3])\n",
    "\n",
    "print(\"X Shape: \", X.shape)    #(2,)\n",
    "print(\"W1 Shape: \", W1.shape)  #(2,3)\n",
    "print(\"B1 Shape: \", B1.shape)  #(3,)"
   ]
  },
  {
   "cell_type": "code",
   "execution_count": 6,
   "metadata": {},
   "outputs": [
    {
     "name": "stdout",
     "output_type": "stream",
     "text": [
      "A1 Shape:  (3,)\n",
      "A1:  [0.3 0.7 1.1]\n"
     ]
    }
   ],
   "source": [
    "A1 = np.dot(X,W1) + B1\n",
    "print(\"A1 Shape: \", A1.shape) #(3,)\n",
    "print(\"A1: \", A1)             # [0.3, 0.7, 1.1]"
   ]
  },
  {
   "cell_type": "markdown",
   "metadata": {},
   "source": [
    "---\n",
    "#### First Layer & Activation Function(Sigmoid)"
   ]
  },
  {
   "cell_type": "markdown",
   "metadata": {},
   "source": [
    "![firstlayer](image/input_first_layer.png)"
   ]
  },
  {
   "cell_type": "markdown",
   "metadata": {},
   "source": [
    "---\n",
    "#### Sigmoid()"
   ]
  },
  {
   "cell_type": "markdown",
   "metadata": {},
   "source": [
    "![Sigmoid](image/sigmoid.png)"
   ]
  },
  {
   "cell_type": "code",
   "execution_count": 7,
   "metadata": {},
   "outputs": [],
   "source": [
    "class Sigmoid:\n",
    "    def __init__(self): # 초기화\n",
    "        self.out = None\n",
    "\n",
    "    def forward(self, x): # 순전파\n",
    "        out = sigmoid(x)\n",
    "        self.out = out\n",
    "        return out\n",
    "\n",
    "    def backward(self, dout): # 역전파\n",
    "        dx = dout * (1.0 - self.out) * self.out\n",
    "\n",
    "        return dx\n",
    "\n",
    "def sigmoid(x): # 시그모이드 식\n",
    "    return 1 / (1 + np.exp(-x))    "
   ]
  },
  {
   "cell_type": "code",
   "execution_count": 8,
   "metadata": {},
   "outputs": [
    {
     "name": "stdout",
     "output_type": "stream",
     "text": [
      "Z1 Shape:  (3,)\n",
      "Z1:  [0.57444252 0.66818777 0.75026011]\n"
     ]
    }
   ],
   "source": [
    "sigmoid_func =  Sigmoid()\n",
    "Z1 = sigmoid_func.forward(A1)\n",
    "print(\"Z1 Shape: \", Z1.shape)  # (3,)\n",
    "print(\"Z1: \", Z1)              # [0.57444252 0.66818777 0.75026011]"
   ]
  },
  {
   "cell_type": "markdown",
   "metadata": {},
   "source": [
    "---\n",
    "#### Fisrt-Second Layer"
   ]
  },
  {
   "cell_type": "markdown",
   "metadata": {},
   "source": [
    "![first_second_layer](image/first_second_layer.PNG.png)"
   ]
  },
  {
   "cell_type": "code",
   "execution_count": 9,
   "metadata": {},
   "outputs": [
    {
     "name": "stdout",
     "output_type": "stream",
     "text": [
      "A2 Shape:  (2,)\n",
      "A2 Shape:  [0.51615984 1.21402696]\n",
      "Z2 Shape:  (2,)\n",
      "Z2 Shape:  [0.62624937 0.7710107 ]\n"
     ]
    }
   ],
   "source": [
    "W2 = np.array([[0.1, 0.4], [0.2, 0.5], [0.3, 0.6]])\n",
    "B2 = np.array([0.1, 0.2])\n",
    "\n",
    "A2 = np.dot(Z1, W2) + B2\n",
    "print(\"A2 Shape: \", A2.shape)  # (2,)\n",
    "print(\"A2 Shape: \", A2)        # [0.51615984 1.21402696]\n",
    "\n",
    "Z2 = sigmoid_func.forward(A2)  \n",
    "print(\"Z2 Shape: \", Z2.shape)  # (2,)\n",
    "print(\"Z2 Shape: \", Z2)        # [0.62624937 0.7710107 ]\n"
   ]
  },
  {
   "cell_type": "markdown",
   "metadata": {},
   "source": [
    "---\n",
    "#### Second - Output Layer"
   ]
  },
  {
   "cell_type": "markdown",
   "metadata": {},
   "source": [
    "![Second_Output_Layer](image/Second_ouput_layer.PNG.png)"
   ]
  },
  {
   "cell_type": "code",
   "execution_count": 10,
   "metadata": {},
   "outputs": [
    {
     "name": "stdout",
     "output_type": "stream",
     "text": [
      "A3 Shape:  (2,)\n",
      "A3:  [0.31682708 0.69627909]\n",
      "y Shape:  (2,)\n",
      "y:  [0.31682708 0.69627909]\n"
     ]
    }
   ],
   "source": [
    "def identify_fuction(x): # 항등함수\n",
    "    return x\n",
    "\n",
    "W3 = np.array([[0.1, 0.3], [0.2, 0.4]])\n",
    "B3 = np.array([0.1, 0.2])\n",
    "\n",
    "A3 = np.dot(Z2, W3) + B3\n",
    "print(\"A3 Shape: \", A3.shape)  # (2,)\n",
    "print(\"A3: \", A3)              # [0.31682708 0.69627909]\n",
    "\n",
    "y = identify_fuction(A3)      # 출력값\n",
    "print(\"y Shape: \", y.shape)  # (2,)\n",
    "print(\"y: \", y)              # [0.31682708 0.69627909]"
   ]
  },
  {
   "cell_type": "markdown",
   "metadata": {},
   "source": [
    "---\n",
    "#### Network Code - Function"
   ]
  },
  {
   "cell_type": "code",
   "execution_count": 11,
   "metadata": {},
   "outputs": [
    {
     "name": "stdout",
     "output_type": "stream",
     "text": [
      "y [0.31682708 0.69627909]\n"
     ]
    }
   ],
   "source": [
    "\n",
    "def init_network():\n",
    "    network = {}\n",
    "    network['W1'] = np.array([[0.1, 0.3, 0.5], [0.2, 0.4, 0.6]])\n",
    "    network['W2'] = np.array([[0.1, 0.4], [0.2, 0.5], [0.3, 0.6]])\n",
    "    network['W3'] = np.array([[0.1, 0.3], [0.2, 0.4]])\n",
    "    network['B1'] = np.array([0.1, 0.2, 0.3])\n",
    "    network['B2'] = np.array([0.1, 0.2])\n",
    "    network['B3'] = np.array([0.1, 0.2])\n",
    "\n",
    "    return network\n",
    "\n",
    "def forward(network, x):\n",
    "    w1, w2, w3 = network['W1'],  network['W2'],  network['W3']\n",
    "    b1, b2, b3 = network['B1'],  network['B2'],  network['B3']\n",
    "    \n",
    "    a1 = np.dot(x,w1) + b1\n",
    "    z1 = sigmoid(a1)\n",
    "    a2 = np.dot(z1,w2) + b2 \n",
    "    z2 = sigmoid(a2)\n",
    "    a3 = np.dot(z2,w3) + b3\n",
    "    y = identify_fuction(a3)\n",
    "    return y\n",
    "\n",
    "network = init_network()\n",
    "x = np.array([1.0, 0.5])\n",
    "y = forward(network, x)\n",
    "print(\"y\", y) # [0.31682708 0.69627909]\n"
   ]
  },
  {
   "cell_type": "markdown",
   "metadata": {},
   "source": [
    "---\n",
    "#### Network Code - Class"
   ]
  },
  {
   "cell_type": "code",
   "execution_count": 18,
   "metadata": {},
   "outputs": [
    {
     "name": "stdout",
     "output_type": "stream",
     "text": [
      "y [0.31682708 0.69627909]\n"
     ]
    }
   ],
   "source": [
    "class Simple_Network:\n",
    "    def __init__(self):\n",
    "        self.network = {}\n",
    "        self.network['W1'] = np.array([[0.1, 0.3, 0.5], [0.2, 0.4, 0.6]])\n",
    "        self.network['W2'] = np.array([[0.1, 0.4], [0.2, 0.5], [0.3, 0.6]])\n",
    "        self.network['W3'] = np.array([[0.1, 0.3], [0.2, 0.4]])\n",
    "        self.network['B1'] = np.array([0.1, 0.2, 0.3])\n",
    "        self.network['B2'] = np.array([0.1, 0.2])\n",
    "        self.network['B3'] = np.array([0.1, 0.2])\n",
    "\n",
    "    def forward(self, x):\n",
    "        self.w1, self.w2, self.w3 = self.network['W1'],  self.network['W2'],  self.network['W3']\n",
    "        self.b1, self.b2, self.b3 = self.network['B1'],  self.network['B2'],  self.network['B3']\n",
    "        \n",
    "        self.a1 = np.dot(x,self.w1) + self.b1\n",
    "        self.z1 = sigmoid(self.a1)\n",
    "        self.a2 = np.dot(self.z1,self.w2) + self.b2 \n",
    "        self.z2 = sigmoid(self.a2)\n",
    "        self.a3 = np.dot(self.z2,self.w3) + self.b3\n",
    "        self.y = identify_fuction(self.a3)\n",
    "        return self.y\n",
    "\n",
    "network = Simple_Network()\n",
    "x = np.array([1.0, 0.5])\n",
    "y = network.forward(x)\n",
    "print(\"y\", y) # [0.31682708 0.69627909]\n"
   ]
  },
  {
   "cell_type": "code",
   "execution_count": null,
   "metadata": {},
   "outputs": [],
   "source": []
  }
 ],
 "metadata": {
  "kernelspec": {
   "display_name": "Python 3.8.10 64-bit",
   "language": "python",
   "name": "python3"
  },
  "language_info": {
   "codemirror_mode": {
    "name": "ipython",
    "version": 3
   },
   "file_extension": ".py",
   "mimetype": "text/x-python",
   "name": "python",
   "nbconvert_exporter": "python",
   "pygments_lexer": "ipython3",
   "version": "3.8.10"
  },
  "vscode": {
   "interpreter": {
    "hash": "916dbcbb3f70747c44a77c7bcd40155683ae19c65e1c03b4aa3499c5328201f1"
   }
  }
 },
 "nbformat": 4,
 "nbformat_minor": 2
}
