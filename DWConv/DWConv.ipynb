{
 "cells": [
  {
   "attachments": {},
   "cell_type": "markdown",
   "metadata": {},
   "source": [
    "---\n",
    "### **Depthwise Separable Convolution**  \n",
    "---\n",
    "![DWConv](DWConv/dwconv.png)\n",
    "---\n",
    "> #### Theory\n",
    ">> - **Depthwise Separable Convolution은 연산량을 줄이지만 성능은 유지하는 일종의 알고리즘이다.**  \n",
    ">> - **Depthwise Separable Convolution은 Depthwise Convolution과 Pointwise COnvolution의 결합이다.**\n",
    ">> - **EX) 3 X 3 X 3 입력에 대하여 Conv 연산후  3 X 3 X 3 출력을 하는 경우.**  \n",
    ">>> - **1) 일반적인 Convolution 방법**  \n",
    ">>> **Origin Image = 3 X 3 X 3 (H, W, C)**  \n",
    ">>> **아웃풋의 채널이 3이므로 커널의 크기는 3이고 이에 따라**  \n",
    ">>> **Origin Image x Size of Kernel = 3 X 3 X 3 X 3 = 81**  \n",
    ">>> **Result to Calculate Conv param = 81**   \n",
    "---\n",
    ">>> - **(2) DWConv의 방법**   \n",
    ">>> **1. Origin Image = 3 X 3 X 3 (H, W, C)**    \n",
    ">>> **1-1. 아웃풋의 채널이 3이므로 커널의 크기는 3이고 이에 따라**    \n",
    ">>> **::Depthwise Separable Conv: 3 x 3 x 1 x 3 + 1 X 1 X 3 X 3 = 27 + 9 = 36**    \n",
    ">>> **>>Depthwise Kernel = 3 x 3 x 1 x 3 (H, W, C, num of Kernel)**  \n",
    ">>> **>>Pointwise Kernel = 1 x 1 x 3 x 3 (H, W, C, num of Kernel)**  \n",
    "---\n",
    ">>> - **(3) DWConv 과정**  \n",
    ">>> **1. 입력 이미지의 Channel의 수에 맞는 Depthwise Conv를 선진행한다.**  \n",
    ">>> **2. Depthwise의 Kernel 개수는 입력 이미지의 Channel의 수와 동일하다.**  \n",
    ">>> **3. 단, Depthwise의 Kernel 차원은 1차원이다.**  \n",
    ">>> **4. Depthwise Conv 연산 이후 입력 이미지의 차원을 다시 합쳐 하나의 영상으로 재조합한다.**  \n",
    ">>> **5. 이후 얻게되는 입력 이미지의 H,W,C 데이터에 Pointwise연산을 진행한다.**    \n",
    ">>> **6. Pointwise Conv에 사용되는 Kernel의 사이즈는 1 x 1 이고 개수는 입력이미지의 채널과 동일하다.**  \n",
    ">>> **7. 입력이미지가 3 x 3 x 3 (H,W,C)일 때 Pointwise는 1 x 1 x 3이 된다.**    "
   ]
  },
  {
   "attachments": {},
   "cell_type": "markdown",
   "metadata": {},
   "source": [
    "---\n",
    "> #### Example Test on MobileNet  \n",
    ">> - **MobileNet Architecture**  \n",
    ">> - **MobileNet은 VGG와 구조적으로 비슷하다. 기존의 Conv을 DWConv로 대체하고**  \n",
    ">> - **Pooling 대신에 Stride '2' 를 사용하여 Size를 축소한것이 큰 차이이다.**  \n",
    ">> - **연산량은 큰폭으로 줄이고 성능은 비슷한 수준으로 유지하였다.**  \n",
    "\n",
    "![mobilenet_architecture1](DWConv/mobilenet_architecture1.png)  \n",
    "![mobilenet_architecture2](DWConv/mobilenet_architecture.png)  "
   ]
  },
  {
   "attachments": {},
   "cell_type": "markdown",
   "metadata": {},
   "source": [
    "---\n",
    "> MobileNet_VER1 Import Lib"
   ]
  },
  {
   "cell_type": "code",
   "execution_count": 1,
   "metadata": {},
   "outputs": [
    {
     "name": "stderr",
     "output_type": "stream",
     "text": [
      "/home/park/.local/lib/python3.8/site-packages/tqdm/auto.py:22: TqdmWarning: IProgress not found. Please update jupyter and ipywidgets. See https://ipywidgets.readthedocs.io/en/stable/user_install.html\n",
      "  from .autonotebook import tqdm as notebook_tqdm\n"
     ]
    }
   ],
   "source": [
    "import torch\n",
    "import torch.nn as nn\n",
    "from torchsummary import summary"
   ]
  },
  {
   "attachments": {},
   "cell_type": "markdown",
   "metadata": {},
   "source": [
    "---\n",
    "> MobileNet_VER1 Class"
   ]
  },
  {
   "cell_type": "code",
   "execution_count": 2,
   "metadata": {},
   "outputs": [],
   "source": [
    "class MobileNet(nn.Module):\n",
    "    def __init__(self, in_ch = 3, out_ch = 1, cls = 1000): \n",
    "        #input_image = 224 x 224 x 3 (H,W,C)\n",
    "        #output_image = 1 x 1 x 1000 (H,W,C)\n",
    "        super().__init__()\n",
    "        self.DWConv1 = nn.Sequential(\n",
    "            nn.Conv2d(in_channels=in_ch, out_channels=32, kernel_size=3, stride= 2, padding=1, bias=False),\n",
    "            nn.Conv2d(in_channels= 32, out_channels= 32,  kernel_size= 3, stride = 1, padding = 1, groups=32, bias=False), # Depthwise\n",
    "            nn.Conv2d(in_channels= 32, out_channels= 64,  kernel_size= 1, stride = 1, padding = 0, bias=False), #Pointwise\n",
    "        )\n",
    "        self.DWConv2 = nn.Sequential(\n",
    "            nn.Conv2d(in_channels= 64, out_channels= 64,  kernel_size= 3, stride = 2, padding = 1, groups=64, bias=False), # Depthwise\n",
    "            nn.Conv2d(in_channels= 64, out_channels= 128,  kernel_size= 1, stride = 1, padding = 0, bias=False), #Pointwise\n",
    "        )\n",
    "        self.DWConv3 = nn.Sequential(\n",
    "            nn.Conv2d(in_channels= 128, out_channels= 128,  kernel_size= 3, stride = 1, padding = 1, groups=128, bias=False), # Depthwise\n",
    "            nn.Conv2d(in_channels= 128, out_channels= 128,  kernel_size= 1, stride = 1, padding = 0, bias=False), #Pointwise\n",
    "            nn.Conv2d(in_channels= 128, out_channels= 128,  kernel_size= 3, stride = 2, padding = 1, groups=128, bias=False), # Depthwise\n",
    "            nn.Conv2d(in_channels= 128, out_channels= 256,  kernel_size= 1, stride = 1, padding = 0, bias=False), #Pointwise\n",
    "        )\n",
    "        self.DWConv4 = nn.Sequential(\n",
    "            nn.Conv2d(in_channels= 256, out_channels= 256,  kernel_size= 3, stride = 1, padding = 1, groups=256, bias=False), # Depthwise\n",
    "            nn.Conv2d(in_channels= 256, out_channels= 256,  kernel_size= 1, stride = 1, padding = 0, bias=False), #Pointwise\n",
    "            nn.Conv2d(in_channels= 256, out_channels= 256,  kernel_size= 3, stride = 2, padding = 1, groups=256, bias=False), # Depthwise\n",
    "            nn.Conv2d(in_channels= 256, out_channels= 512,  kernel_size= 1, stride = 1, padding = 0, bias=False), #Pointwise\n",
    "        )\n",
    "        self.DWConv5 = nn.Sequential(\n",
    "            nn.Conv2d(in_channels= 512, out_channels= 512,  kernel_size= 3, stride = 1, padding = 1, groups=512, bias=False), # Depthwise\n",
    "            nn.Conv2d(in_channels= 512, out_channels= 512,  kernel_size= 1, stride = 1, padding = 0, bias=False), #Pointwise\n",
    "        )\n",
    "        self.DWConv6 = nn.Sequential(\n",
    "            nn.Conv2d(in_channels= 512, out_channels= 512,  kernel_size= 3, stride = 2, padding = 1, groups=512, bias=False), # Depthwise\n",
    "            nn.Conv2d(in_channels= 512, out_channels= 1024,  kernel_size= 1, stride = 1, padding = 0, bias=False), #Pointwise\n",
    "        )\n",
    "        self.DWConv7 = nn.Sequential(\n",
    "            nn.Conv2d(in_channels= 1024, out_channels= 1024,  kernel_size= 3, stride = 2, padding = 1, groups=1024, bias=False), # Depthwise\n",
    "            nn.Conv2d(in_channels= 1024, out_channels= 1024,  kernel_size= 1, stride = 1, padding = 0, bias=False), #Pointwise\n",
    "        )\n",
    "        self.avgp = nn.AvgPool2d(kernel_size=1, stride=1)\n",
    "        self.fc = nn.Linear(in_features=1024, out_features=cls)\n",
    "        self.sm = nn.Softmax()\n",
    "    \n",
    "    def forward(self,x):\n",
    "        out = self.DWConv1(x)\n",
    "        out = self.DWConv2(out)\n",
    "        out = self.DWConv3(out)\n",
    "        out = self.DWConv4(out)\n",
    "        out = self.DWConv5(out)\n",
    "        out = self.DWConv5(out)\n",
    "        out = self.DWConv5(out)\n",
    "        out = self.DWConv5(out)\n",
    "        out = self.DWConv5(out)\n",
    "        out = self.DWConv6(out)\n",
    "        out = self.DWConv7(out)\n",
    "        return out\n"
   ]
  },
  {
   "attachments": {},
   "cell_type": "markdown",
   "metadata": {},
   "source": [
    "---\n",
    "> MobileNet_VER1 Main"
   ]
  },
  {
   "cell_type": "code",
   "execution_count": 3,
   "metadata": {},
   "outputs": [
    {
     "name": "stdout",
     "output_type": "stream",
     "text": [
      "----------------------------------------------------------------\n",
      "        Layer (type)               Output Shape         Param #\n",
      "================================================================\n",
      "            Conv2d-1         [-1, 32, 112, 112]             864\n",
      "            Conv2d-2         [-1, 32, 112, 112]             288\n",
      "            Conv2d-3         [-1, 64, 112, 112]           2,048\n",
      "            Conv2d-4           [-1, 64, 56, 56]             576\n",
      "            Conv2d-5          [-1, 128, 56, 56]           8,192\n",
      "            Conv2d-6          [-1, 128, 56, 56]           1,152\n",
      "            Conv2d-7          [-1, 128, 56, 56]          16,384\n",
      "            Conv2d-8          [-1, 128, 28, 28]           1,152\n",
      "            Conv2d-9          [-1, 256, 28, 28]          32,768\n",
      "           Conv2d-10          [-1, 256, 28, 28]           2,304\n",
      "           Conv2d-11          [-1, 256, 28, 28]          65,536\n",
      "           Conv2d-12          [-1, 256, 14, 14]           2,304\n",
      "           Conv2d-13          [-1, 512, 14, 14]         131,072\n",
      "           Conv2d-14          [-1, 512, 14, 14]           4,608\n",
      "           Conv2d-15          [-1, 512, 14, 14]         262,144\n",
      "           Conv2d-16          [-1, 512, 14, 14]           4,608\n",
      "           Conv2d-17          [-1, 512, 14, 14]         262,144\n",
      "           Conv2d-18          [-1, 512, 14, 14]           4,608\n",
      "           Conv2d-19          [-1, 512, 14, 14]         262,144\n",
      "           Conv2d-20          [-1, 512, 14, 14]           4,608\n",
      "           Conv2d-21          [-1, 512, 14, 14]         262,144\n",
      "           Conv2d-22          [-1, 512, 14, 14]           4,608\n",
      "           Conv2d-23          [-1, 512, 14, 14]         262,144\n",
      "           Conv2d-24            [-1, 512, 7, 7]           4,608\n",
      "           Conv2d-25           [-1, 1024, 7, 7]         524,288\n",
      "           Conv2d-26           [-1, 1024, 4, 4]           9,216\n",
      "           Conv2d-27           [-1, 1024, 4, 4]       1,048,576\n",
      "================================================================\n",
      "Total params: 3,185,088\n",
      "Trainable params: 3,185,088\n",
      "Non-trainable params: 0\n",
      "----------------------------------------------------------------\n",
      "Input size (MB): 0.57\n",
      "Forward/backward pass size (MB): 37.96\n",
      "Params size (MB): 12.15\n",
      "Estimated Total Size (MB): 50.68\n",
      "----------------------------------------------------------------\n"
     ]
    }
   ],
   "source": [
    "device = torch.device('cpu')\n",
    "\n",
    "if __name__ == \"__main__\":\n",
    "    model = MobileNet()\n",
    "    summary(model=model, input_size= (3,224,224), device= device.type)\n"
   ]
  },
  {
   "attachments": {},
   "cell_type": "markdown",
   "metadata": {},
   "source": [
    "---\n",
    "> MobileNet_VER1 Result"
   ]
  },
  {
   "attachments": {},
   "cell_type": "markdown",
   "metadata": {},
   "source": [
    "![ver1_result](DWConv/result1.png)"
   ]
  },
  {
   "attachments": {},
   "cell_type": "markdown",
   "metadata": {},
   "source": [
    "---\n",
    "> MobileNet_VER2 Import Lib"
   ]
  },
  {
   "cell_type": "code",
   "execution_count": 4,
   "metadata": {},
   "outputs": [],
   "source": [
    "import torch\n",
    "import torch.nn as nn\n",
    "from torchsummary import summary"
   ]
  },
  {
   "attachments": {},
   "cell_type": "markdown",
   "metadata": {},
   "source": [
    "---\n",
    "> MobileNet_VER2 Class"
   ]
  },
  {
   "cell_type": "code",
   "execution_count": 5,
   "metadata": {},
   "outputs": [],
   "source": [
    "class MobileNet(nn.Module):\n",
    "    def __init__(self): \n",
    "        super(MobileNet, self).__init__()\n",
    "        def InitConv():\n",
    "            return nn.Sequential(\n",
    "                nn.Conv2d(3, 32, 3, 2, 1, bias=False),\n",
    "                nn.BatchNorm2d(32),\n",
    "                nn.ReLU(inplace=True),            \n",
    "            )    \n",
    "\n",
    "        def DWConv(in_ch, out_ch, dw_stride):\n",
    "            return nn.Sequential(\n",
    "                #dw\n",
    "                nn.Conv2d(in_ch, in_ch, 3, dw_stride, padding=1, groups=in_ch, bias=False),\n",
    "                nn.BatchNorm2d(in_ch),\n",
    "                nn.ReLU(inplace=True),\n",
    "\n",
    "                #pw\n",
    "                nn.Conv2d(in_ch, out_ch, 1, 1, bias=False),\n",
    "                nn.BatchNorm2d(out_ch),\n",
    "                nn.ReLU(inplace=True),            \n",
    "            )\n",
    "    \n",
    "        self.model = nn.Sequential(\n",
    "            InitConv(),\n",
    "            DWConv(32, 64, 1),\n",
    "            DWConv(64, 128, 2),\n",
    "            DWConv(128, 128, 1),\n",
    "            DWConv(128, 256, 2),\n",
    "            DWConv(256, 256, 1),\n",
    "            DWConv(256, 512, 2),\n",
    "            DWConv(512, 512, 1),\n",
    "            DWConv(512, 512, 1),\n",
    "            DWConv(512, 512, 1),\n",
    "            DWConv(512, 512, 1),\n",
    "            DWConv(512, 512, 1),\n",
    "            DWConv(512, 1024, 2),\n",
    "            DWConv(1024, 1024, 1),\n",
    "            nn.AvgPool2d(1)        \n",
    "        )\n",
    "        self.fc = nn.Linear(1024, 1000)\n",
    "    \n",
    "    def forward(self,x):\n",
    "        out = self.model(x)  \n",
    "        out = out.view(-1, 1024)\n",
    "        out = self.fc(out)      \n",
    "        return out"
   ]
  },
  {
   "attachments": {},
   "cell_type": "markdown",
   "metadata": {},
   "source": [
    "---\n",
    "> MobileNet_VER2 Main"
   ]
  },
  {
   "cell_type": "code",
   "execution_count": 6,
   "metadata": {},
   "outputs": [
    {
     "name": "stdout",
     "output_type": "stream",
     "text": [
      "----------------------------------------------------------------\n",
      "        Layer (type)               Output Shape         Param #\n",
      "================================================================\n",
      "            Conv2d-1         [-1, 32, 112, 112]             864\n",
      "       BatchNorm2d-2         [-1, 32, 112, 112]              64\n",
      "              ReLU-3         [-1, 32, 112, 112]               0\n",
      "            Conv2d-4         [-1, 32, 112, 112]             288\n",
      "       BatchNorm2d-5         [-1, 32, 112, 112]              64\n",
      "              ReLU-6         [-1, 32, 112, 112]               0\n",
      "            Conv2d-7         [-1, 64, 112, 112]           2,048\n",
      "       BatchNorm2d-8         [-1, 64, 112, 112]             128\n",
      "              ReLU-9         [-1, 64, 112, 112]               0\n",
      "           Conv2d-10           [-1, 64, 56, 56]             576\n",
      "      BatchNorm2d-11           [-1, 64, 56, 56]             128\n",
      "             ReLU-12           [-1, 64, 56, 56]               0\n",
      "           Conv2d-13          [-1, 128, 56, 56]           8,192\n",
      "      BatchNorm2d-14          [-1, 128, 56, 56]             256\n",
      "             ReLU-15          [-1, 128, 56, 56]               0\n",
      "           Conv2d-16          [-1, 128, 56, 56]           1,152\n",
      "      BatchNorm2d-17          [-1, 128, 56, 56]             256\n",
      "             ReLU-18          [-1, 128, 56, 56]               0\n",
      "           Conv2d-19          [-1, 128, 56, 56]          16,384\n",
      "      BatchNorm2d-20          [-1, 128, 56, 56]             256\n",
      "             ReLU-21          [-1, 128, 56, 56]               0\n",
      "           Conv2d-22          [-1, 128, 28, 28]           1,152\n",
      "      BatchNorm2d-23          [-1, 128, 28, 28]             256\n",
      "             ReLU-24          [-1, 128, 28, 28]               0\n",
      "           Conv2d-25          [-1, 256, 28, 28]          32,768\n",
      "      BatchNorm2d-26          [-1, 256, 28, 28]             512\n",
      "             ReLU-27          [-1, 256, 28, 28]               0\n",
      "           Conv2d-28          [-1, 256, 28, 28]           2,304\n",
      "      BatchNorm2d-29          [-1, 256, 28, 28]             512\n",
      "             ReLU-30          [-1, 256, 28, 28]               0\n",
      "           Conv2d-31          [-1, 256, 28, 28]          65,536\n",
      "      BatchNorm2d-32          [-1, 256, 28, 28]             512\n",
      "             ReLU-33          [-1, 256, 28, 28]               0\n",
      "           Conv2d-34          [-1, 256, 14, 14]           2,304\n",
      "      BatchNorm2d-35          [-1, 256, 14, 14]             512\n",
      "             ReLU-36          [-1, 256, 14, 14]               0\n",
      "           Conv2d-37          [-1, 512, 14, 14]         131,072\n",
      "      BatchNorm2d-38          [-1, 512, 14, 14]           1,024\n",
      "             ReLU-39          [-1, 512, 14, 14]               0\n",
      "           Conv2d-40          [-1, 512, 14, 14]           4,608\n",
      "      BatchNorm2d-41          [-1, 512, 14, 14]           1,024\n",
      "             ReLU-42          [-1, 512, 14, 14]               0\n",
      "           Conv2d-43          [-1, 512, 14, 14]         262,144\n",
      "      BatchNorm2d-44          [-1, 512, 14, 14]           1,024\n",
      "             ReLU-45          [-1, 512, 14, 14]               0\n",
      "           Conv2d-46          [-1, 512, 14, 14]           4,608\n",
      "      BatchNorm2d-47          [-1, 512, 14, 14]           1,024\n",
      "             ReLU-48          [-1, 512, 14, 14]               0\n",
      "           Conv2d-49          [-1, 512, 14, 14]         262,144\n",
      "      BatchNorm2d-50          [-1, 512, 14, 14]           1,024\n",
      "             ReLU-51          [-1, 512, 14, 14]               0\n",
      "           Conv2d-52          [-1, 512, 14, 14]           4,608\n",
      "      BatchNorm2d-53          [-1, 512, 14, 14]           1,024\n",
      "             ReLU-54          [-1, 512, 14, 14]               0\n",
      "           Conv2d-55          [-1, 512, 14, 14]         262,144\n",
      "      BatchNorm2d-56          [-1, 512, 14, 14]           1,024\n",
      "             ReLU-57          [-1, 512, 14, 14]               0\n",
      "           Conv2d-58          [-1, 512, 14, 14]           4,608\n",
      "      BatchNorm2d-59          [-1, 512, 14, 14]           1,024\n",
      "             ReLU-60          [-1, 512, 14, 14]               0\n",
      "           Conv2d-61          [-1, 512, 14, 14]         262,144\n",
      "      BatchNorm2d-62          [-1, 512, 14, 14]           1,024\n",
      "             ReLU-63          [-1, 512, 14, 14]               0\n",
      "           Conv2d-64          [-1, 512, 14, 14]           4,608\n",
      "      BatchNorm2d-65          [-1, 512, 14, 14]           1,024\n",
      "             ReLU-66          [-1, 512, 14, 14]               0\n",
      "           Conv2d-67          [-1, 512, 14, 14]         262,144\n",
      "      BatchNorm2d-68          [-1, 512, 14, 14]           1,024\n",
      "             ReLU-69          [-1, 512, 14, 14]               0\n",
      "           Conv2d-70            [-1, 512, 7, 7]           4,608\n",
      "      BatchNorm2d-71            [-1, 512, 7, 7]           1,024\n",
      "             ReLU-72            [-1, 512, 7, 7]               0\n",
      "           Conv2d-73           [-1, 1024, 7, 7]         524,288\n",
      "      BatchNorm2d-74           [-1, 1024, 7, 7]           2,048\n",
      "             ReLU-75           [-1, 1024, 7, 7]               0\n",
      "           Conv2d-76           [-1, 1024, 7, 7]           9,216\n",
      "      BatchNorm2d-77           [-1, 1024, 7, 7]           2,048\n",
      "             ReLU-78           [-1, 1024, 7, 7]               0\n",
      "           Conv2d-79           [-1, 1024, 7, 7]       1,048,576\n",
      "      BatchNorm2d-80           [-1, 1024, 7, 7]           2,048\n",
      "             ReLU-81           [-1, 1024, 7, 7]               0\n",
      "        AvgPool2d-82           [-1, 1024, 7, 7]               0\n",
      "           Linear-83                 [-1, 1000]       1,025,000\n",
      "================================================================\n",
      "Total params: 4,231,976\n",
      "Trainable params: 4,231,976\n",
      "Non-trainable params: 0\n",
      "----------------------------------------------------------------\n",
      "Input size (MB): 0.57\n",
      "Forward/backward pass size (MB): 115.81\n",
      "Params size (MB): 16.14\n",
      "Estimated Total Size (MB): 132.53\n",
      "----------------------------------------------------------------\n"
     ]
    }
   ],
   "source": [
    "device = torch.device('cpu')\n",
    "\n",
    "if __name__ == \"__main__\":\n",
    "    model = MobileNet()\n",
    "    summary(model=model, input_size= (3,224,224), device= device.type)"
   ]
  },
  {
   "attachments": {},
   "cell_type": "markdown",
   "metadata": {},
   "source": [
    "---\n",
    "> MobileNet_VER2 Result"
   ]
  },
  {
   "attachments": {},
   "cell_type": "markdown",
   "metadata": {},
   "source": [
    "![ver2_result](DWConv/result2.png)"
   ]
  },
  {
   "cell_type": "markdown",
   "metadata": {},
   "source": []
  }
 ],
 "metadata": {
  "kernelspec": {
   "display_name": "Python 3",
   "language": "python",
   "name": "python3"
  },
  "language_info": {
   "codemirror_mode": {
    "name": "ipython",
    "version": 3
   },
   "file_extension": ".py",
   "mimetype": "text/x-python",
   "name": "python",
   "nbconvert_exporter": "python",
   "pygments_lexer": "ipython3",
   "version": "3.8.10"
  },
  "vscode": {
   "interpreter": {
    "hash": "e7370f93d1d0cde622a1f8e1c04877d8463912d04d973331ad4851f04de6915a"
   }
  }
 },
 "nbformat": 4,
 "nbformat_minor": 2
}
