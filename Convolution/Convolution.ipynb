{
 "cells": [
  {
   "attachments": {},
   "cell_type": "markdown",
   "metadata": {},
   "source": [
    "---\n",
    "### **Convolution caculate Parameters**  \n",
    "---\n",
    "> #### 합성곱 연산에 따른 파라미터 계산\n",
    ">> - **Convolution Parameter**  \n",
    ">>> **1. Input Data Height : H**  \n",
    ">>> **2. Input Data Width : W**  \n",
    ">>> **3. Filter Height: FH**  \n",
    ">>> **4. Filter Width : WD**  \n",
    ">>> **5. Stride : S**  \n",
    ">>> **6. Padding : P**    \n"
   ]
  },
  {
   "attachments": {},
   "cell_type": "markdown",
   "metadata": {},
   "source": [
    "![Convolution](Convolution\\outputsize.gif)"
   ]
  },
  {
   "attachments": {},
   "cell_type": "markdown",
   "metadata": {},
   "source": [
    "![formula](Convolution\\formula.png)"
   ]
  },
  {
   "attachments": {},
   "cell_type": "markdown",
   "metadata": {},
   "source": [
    "---\n",
    "> **Convolution Parameter Fomula** \n",
    ">> **InputChannel x KernelWidth x KernelHeight x OutputChannel + Bias(Filter)**   \n",
    ">>> **(Output Channel은 Filter의 값을 의미한다.)**  \n",
    "\n",
    " "
   ]
  },
  {
   "attachments": {},
   "cell_type": "markdown",
   "metadata": {},
   "source": [
    "---\n",
    "> **BatchNormalization Parameter Configuration**   \n",
    ">> **1. Gamma: Scaling Parameter**  \n",
    ">> **2. Beta: Shift Parameter**  \n",
    ">> **3. Mean: Non-Trainable Params**  \n",
    ">> **4. Standard deviation: Non-Trainable Params**  \n",
    "\n",
    "\n",
    " "
   ]
  },
  {
   "attachments": {},
   "cell_type": "markdown",
   "metadata": {},
   "source": [
    "---\n",
    "### **Example on AlexNet**"
   ]
  },
  {
   "attachments": {},
   "cell_type": "markdown",
   "metadata": {},
   "source": [
    "![alexnetarchi](Convolution\\alexnet_architecture.PNG)"
   ]
  },
  {
   "attachments": {},
   "cell_type": "markdown",
   "metadata": {},
   "source": [
    "---\n",
    ">### **AlexNet Architecture**\n",
    ">>- #### **Input: 227x227x3 크기의 컬러 이미지.**  \n",
    ">>> **1.Conv-1: 11x11 크기의 커널 96개, stride=4, padding=0**   \n",
    ">>> **2.MaxPool-1: stride 2, 3x3 max pooling layer**  \n",
    ">>> **3.Conv-2: 5x5 크기의 커널 256개, stride=1, padding=2**  \n",
    ">>> **4.MaxPool-2: stride 2, 3x3 max pooling layer**  \n",
    ">>> **5.Conv-3: 3x3 크기의 커널 384개, stride=1, padding=1**  \n",
    ">>> **6.Conv-4: 3x3 크기의 커널 384개, stride=1, padding=1**  \n",
    ">>> **7.Conv-5: 3x3 크기의 커널 256개, stride=1, padding=1**  \n",
    ">>> **8.Maxpool-3: stride 2, 3x3 max pooling layer**  \n",
    ">>> **9.FC-1: 4096개의 fully connected layer**  \n",
    ">>> **10.FC-2: 4096개의 fully connected layer**  \n",
    ">>> **11.FC-3: 1000개의 fully connected layer** "
   ]
  },
  {
   "cell_type": "markdown",
   "metadata": {},
   "source": []
  },
  {
   "cell_type": "markdown",
   "metadata": {},
   "source": []
  }
 ],
 "metadata": {
  "kernelspec": {
   "display_name": "Python 3",
   "language": "python",
   "name": "python3"
  },
  "language_info": {
   "codemirror_mode": {
    "name": "ipython",
    "version": 3
   },
   "file_extension": ".py",
   "mimetype": "text/x-python",
   "name": "python",
   "nbconvert_exporter": "python",
   "pygments_lexer": "ipython3",
   "version": "3.7.8 (tags/v3.7.8:4b47a5b6ba, Jun 28 2020, 08:53:46) [MSC v.1916 64 bit (AMD64)]"
  },
  "vscode": {
   "interpreter": {
    "hash": "636e982776a734e3843cf985302b4a5377d4a21d75da9d3bcc757037678bc3e3"
   }
  }
 },
 "nbformat": 4,
 "nbformat_minor": 2
}
