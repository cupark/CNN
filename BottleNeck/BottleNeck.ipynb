{
 "cells": [
  {
   "attachments": {},
   "cell_type": "markdown",
   "metadata": {},
   "source": [
    "---\n",
    "### BottleNeck"
   ]
  },
  {
   "attachments": {},
   "cell_type": "markdown",
   "metadata": {},
   "source": [
    "---\n",
    "#### BottleNeck이 Convolution 연산량에 어떠한 영향을 미치는가 확인"
   ]
  },
  {
   "cell_type": "markdown",
   "metadata": {},
   "source": [
    "---"
   ]
  },
  {
   "attachments": {},
   "cell_type": "markdown",
   "metadata": {},
   "source": [
    "![vgg_architecture](/home/park/coding/study/DL/DeepLearning/BottleNeck/image/bottleneck.png)"
   ]
  },
  {
   "cell_type": "markdown",
   "metadata": {},
   "source": [
    "---"
   ]
  },
  {
   "cell_type": "markdown",
   "metadata": {},
   "source": [
    "##### Import Lib"
   ]
  },
  {
   "cell_type": "code",
   "execution_count": 10,
   "metadata": {},
   "outputs": [],
   "source": [
    "import torch\n",
    "import torch.nn as nn\n",
    "import numpy as np\n",
    "from torchsummary import summary"
   ]
  },
  {
   "attachments": {},
   "cell_type": "markdown",
   "metadata": {},
   "source": [
    "---\n",
    "##### Standard Param Network"
   ]
  },
  {
   "cell_type": "code",
   "execution_count": 11,
   "metadata": {},
   "outputs": [],
   "source": [
    "class Standard_Param(nn.Module):\n",
    "    def __init__(self):\n",
    "        super(Standard_Param, self).__init__()\n",
    "        \n",
    "        self.Standard_Param = nn.Sequential(\n",
    "            nn.Conv2d(in_channels=256, out_channels=64, kernel_size=3, padding=1, bias=False),\n",
    "            nn.ReLU(),\n",
    "            nn.Conv2d(in_channels=64, out_channels=256, kernel_size=3, padding=1, bias=False),\n",
    "        )\n",
    "        self.relu = nn.ReLU()\n",
    "    \n",
    "    def forward(self, x):\n",
    "        fx = self.Standard_Param(x)\n",
    "        out = fx + x\n",
    "        out = self.relu(out)\n",
    "        return out"
   ]
  },
  {
   "attachments": {},
   "cell_type": "markdown",
   "metadata": {},
   "source": [
    "---\n",
    "##### BottleNeck Param Network"
   ]
  },
  {
   "cell_type": "code",
   "execution_count": 12,
   "metadata": {},
   "outputs": [],
   "source": [
    "class BottleNeck_Param(nn.Module):\n",
    "    def __init__(self, inputdim = 1, outputdim = 64):\n",
    "        super(BottleNeck_Param, self).__init__()\n",
    "        \n",
    "        self.BottleNeck_Param = nn.Sequential(\n",
    "            nn.Conv2d(in_channels=256, out_channels=64, kernel_size=1, bias=False),\n",
    "            nn.ReLU(),\n",
    "            nn.Conv2d(in_channels=64, out_channels=64, kernel_size=3, padding=1, bias=False),\n",
    "            nn.ReLU(),\n",
    "            nn.Conv2d(in_channels=64, out_channels=256, kernel_size=1, bias=False),            \n",
    "        )\n",
    "        self.relu = nn.ReLU()\n",
    "    \n",
    "    def forward(self, x):\n",
    "        fx = self.BottleNeck_Param(x)\n",
    "        out = fx + x\n",
    "        out = self.relu(out)\n",
    "        return out\n",
    "               "
   ]
  },
  {
   "attachments": {},
   "cell_type": "markdown",
   "metadata": {},
   "source": [
    "---\n",
    "##### Select Device"
   ]
  },
  {
   "cell_type": "code",
   "execution_count": 13,
   "metadata": {},
   "outputs": [],
   "source": [
    "device = torch.device('cpu')"
   ]
  },
  {
   "attachments": {},
   "cell_type": "markdown",
   "metadata": {},
   "source": [
    "---\n",
    "##### Calculate Param"
   ]
  },
  {
   "cell_type": "code",
   "execution_count": 14,
   "metadata": {},
   "outputs": [
    {
     "name": "stdout",
     "output_type": "stream",
     "text": [
      "----------------------------------------------------------------\n",
      "        Layer (type)               Output Shape         Param #\n",
      "================================================================\n",
      "            Conv2d-1         [-1, 64, 320, 320]         147,456\n",
      "              ReLU-2         [-1, 64, 320, 320]               0\n",
      "            Conv2d-3        [-1, 256, 320, 320]         147,456\n",
      "              ReLU-4        [-1, 256, 320, 320]               0\n",
      "================================================================\n",
      "Total params: 294,912\n",
      "Trainable params: 294,912\n",
      "Non-trainable params: 0\n",
      "----------------------------------------------------------------\n",
      "Input size (MB): 100.00\n",
      "Forward/backward pass size (MB): 500.00\n",
      "Params size (MB): 1.12\n",
      "Estimated Total Size (MB): 601.12\n",
      "----------------------------------------------------------------\n",
      "----------------------------------------------------------------\n",
      "        Layer (type)               Output Shape         Param #\n",
      "================================================================\n",
      "            Conv2d-1         [-1, 64, 320, 320]          16,384\n",
      "              ReLU-2         [-1, 64, 320, 320]               0\n",
      "            Conv2d-3         [-1, 64, 320, 320]          36,864\n",
      "              ReLU-4         [-1, 64, 320, 320]               0\n",
      "            Conv2d-5        [-1, 256, 320, 320]          16,384\n",
      "              ReLU-6        [-1, 256, 320, 320]               0\n",
      "================================================================\n",
      "Total params: 69,632\n",
      "Trainable params: 69,632\n",
      "Non-trainable params: 0\n",
      "----------------------------------------------------------------\n",
      "Input size (MB): 100.00\n",
      "Forward/backward pass size (MB): 600.00\n",
      "Params size (MB): 0.27\n",
      "Estimated Total Size (MB): 700.27\n",
      "----------------------------------------------------------------\n"
     ]
    }
   ],
   "source": [
    "if __name__ == \"__main__\":\n",
    "    model1 = Standard_Param()\n",
    "    model2 = BottleNeck_Param()\n",
    "    summary(model=model1, input_size= (256,320,320), device= device.type) # Total params: 294,912\n",
    "    summary(model=model2, input_size= (256,320,320), device= device.type) # Total params: 69,632"
   ]
  },
  {
   "cell_type": "code",
   "execution_count": null,
   "metadata": {},
   "outputs": [],
   "source": []
  }
 ],
 "metadata": {
  "kernelspec": {
   "display_name": "Python 3.8.10 64-bit",
   "language": "python",
   "name": "python3"
  },
  "language_info": {
   "codemirror_mode": {
    "name": "ipython",
    "version": 3
   },
   "file_extension": ".py",
   "mimetype": "text/x-python",
   "name": "python",
   "nbconvert_exporter": "python",
   "pygments_lexer": "ipython3",
   "version": "3.8.10"
  },
  "vscode": {
   "interpreter": {
    "hash": "916dbcbb3f70747c44a77c7bcd40155683ae19c65e1c03b4aa3499c5328201f1"
   }
  }
 },
 "nbformat": 4,
 "nbformat_minor": 2
}
