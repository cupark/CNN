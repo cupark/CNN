{
 "cells": [
  {
   "cell_type": "markdown",
   "metadata": {},
   "source": [
    "---\n",
    "### Self-Supervied Learning"
   ]
  },
  {
   "cell_type": "markdown",
   "metadata": {},
   "source": [
    "---\n",
    "<br>Self-Supervised Learning 이란</br>  \n",
    "라벨이 없는 Untagged data를 기반으로 한 학습이다.   \n",
    "스스로 학습 데이터에 대한 분류를 수행하기 떄문에 Self라는 접두어가 붙었다.   \n",
    "데이터에 tag가 존재하지 않는다. 따라서 개와 고양이 사진을 데이터로 넣어   \n",
    "학습을 시키는 경우 개와 고양이가 무엇 인지 모르는채 이미지의 특성에 따라 분류를 한다.  "
   ]
  },
  {
   "cell_type": "markdown",
   "metadata": {},
   "source": [
    "---\n",
    "<br>Self-Supervised Learning 과정</br>  \n",
    "1. Pretext task - 연구자가 직접 만든 task를 정의한다.  \n",
    "2. Label이 전혀 없는 데이터셋을 이용하여 Pretext task를 목표로 모델을 학습시킨다.\n",
    "   : Point - 데이터 자체의 정보를 Modify하여 지도 학습처럼 사용해야 한다. \n",
    "3. 학습된 모델을 Down-Stream task에 가지고 온다. \n",
    "   : Point - 가중치의 변동을 막은 뒤, 전이 학습을 수행(4.)\n",
    "4. 3.에서 진행한 전이 학습 시 라벨을 전달하여 Supervised Learning을 수행하고 성능을 평가한다. "
   ]
  },
  {
   "cell_type": "markdown",
   "metadata": {},
   "source": [
    "![workflow](CNN/Self-Supervised/image/self-supervised-workflow.png)"
   ]
  },
  {
   "cell_type": "markdown",
   "metadata": {},
   "source": [
    "![inputlayer](CNN/Self-Supervised/image/self-supervised-finetuning.png)"
   ]
  }
 ],
 "metadata": {
  "kernelspec": {
   "display_name": "Python 3.8.10 64-bit",
   "language": "python",
   "name": "python3"
  },
  "language_info": {
   "codemirror_mode": {
    "name": "ipython",
    "version": 3
   },
   "file_extension": ".py",
   "mimetype": "text/x-python",
   "name": "python",
   "nbconvert_exporter": "python",
   "pygments_lexer": "ipython3",
   "version": "3.8.10"
  },
  "vscode": {
   "interpreter": {
    "hash": "916dbcbb3f70747c44a77c7bcd40155683ae19c65e1c03b4aa3499c5328201f1"
   }
  }
 },
 "nbformat": 4,
 "nbformat_minor": 2
}
